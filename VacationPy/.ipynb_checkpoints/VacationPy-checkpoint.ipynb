{
 "cells": [
  {
   "cell_type": "markdown",
   "metadata": {},
   "source": [
    "# VacationPy\n",
    "----\n",
    "\n",
    "#### Note\n",
    "* Instructions have been included for each segment. You do not have to follow them exactly, but they are included to help you think through the steps."
   ]
  },
  {
   "cell_type": "code",
   "execution_count": 1,
   "metadata": {},
   "outputs": [],
   "source": [
    "# Dependencies and Setup\n",
    "import matplotlib.pyplot as plt\n",
    "import pandas as pd\n",
    "import numpy as np\n",
    "import requests\n",
    "import gmaps\n",
    "import csv\n",
    "\n",
    "# Import API key\n",
    "from api_keys import g_key"
   ]
  },
  {
   "cell_type": "markdown",
   "metadata": {},
   "source": [
    "### Store Part I results into DataFrame\n",
    "* Load the csv exported in Part I to a DataFrame"
   ]
  },
  {
   "cell_type": "code",
   "execution_count": 2,
   "metadata": {},
   "outputs": [
    {
     "data": {
      "text/html": [
       "<div>\n",
       "<style scoped>\n",
       "    .dataframe tbody tr th:only-of-type {\n",
       "        vertical-align: middle;\n",
       "    }\n",
       "\n",
       "    .dataframe tbody tr th {\n",
       "        vertical-align: top;\n",
       "    }\n",
       "\n",
       "    .dataframe thead th {\n",
       "        text-align: right;\n",
       "    }\n",
       "</style>\n",
       "<table border=\"1\" class=\"dataframe\">\n",
       "  <thead>\n",
       "    <tr style=\"text-align: right;\">\n",
       "      <th></th>\n",
       "      <th>Unnamed: 0</th>\n",
       "      <th>City</th>\n",
       "      <th>Lat</th>\n",
       "      <th>Lng</th>\n",
       "      <th>Max Temp</th>\n",
       "      <th>Humidity</th>\n",
       "      <th>Cloudiness</th>\n",
       "      <th>Wind Speed</th>\n",
       "      <th>Country</th>\n",
       "      <th>Date</th>\n",
       "    </tr>\n",
       "  </thead>\n",
       "  <tbody>\n",
       "    <tr>\n",
       "      <th>0</th>\n",
       "      <td>0</td>\n",
       "      <td>Bauchi</td>\n",
       "      <td>10.50</td>\n",
       "      <td>10.00</td>\n",
       "      <td>72.97</td>\n",
       "      <td>88</td>\n",
       "      <td>96</td>\n",
       "      <td>3.18</td>\n",
       "      <td>NG</td>\n",
       "      <td>1597791092</td>\n",
       "    </tr>\n",
       "    <tr>\n",
       "      <th>1</th>\n",
       "      <td>1</td>\n",
       "      <td>Mahébourg</td>\n",
       "      <td>-20.41</td>\n",
       "      <td>57.70</td>\n",
       "      <td>71.60</td>\n",
       "      <td>73</td>\n",
       "      <td>40</td>\n",
       "      <td>14.99</td>\n",
       "      <td>MU</td>\n",
       "      <td>1597791093</td>\n",
       "    </tr>\n",
       "    <tr>\n",
       "      <th>2</th>\n",
       "      <td>2</td>\n",
       "      <td>Elmira</td>\n",
       "      <td>42.09</td>\n",
       "      <td>-76.81</td>\n",
       "      <td>75.20</td>\n",
       "      <td>38</td>\n",
       "      <td>40</td>\n",
       "      <td>4.70</td>\n",
       "      <td>US</td>\n",
       "      <td>1597791094</td>\n",
       "    </tr>\n",
       "    <tr>\n",
       "      <th>3</th>\n",
       "      <td>3</td>\n",
       "      <td>Hobart</td>\n",
       "      <td>-42.88</td>\n",
       "      <td>147.33</td>\n",
       "      <td>44.01</td>\n",
       "      <td>87</td>\n",
       "      <td>75</td>\n",
       "      <td>9.17</td>\n",
       "      <td>AU</td>\n",
       "      <td>1597790825</td>\n",
       "    </tr>\n",
       "    <tr>\n",
       "      <th>4</th>\n",
       "      <td>4</td>\n",
       "      <td>Sobolevo</td>\n",
       "      <td>54.43</td>\n",
       "      <td>31.90</td>\n",
       "      <td>59.32</td>\n",
       "      <td>82</td>\n",
       "      <td>99</td>\n",
       "      <td>8.39</td>\n",
       "      <td>RU</td>\n",
       "      <td>1597791097</td>\n",
       "    </tr>\n",
       "  </tbody>\n",
       "</table>\n",
       "</div>"
      ],
      "text/plain": [
       "   Unnamed: 0       City    Lat     Lng  Max Temp  Humidity  Cloudiness  \\\n",
       "0           0     Bauchi  10.50   10.00     72.97        88          96   \n",
       "1           1  Mahébourg -20.41   57.70     71.60        73          40   \n",
       "2           2     Elmira  42.09  -76.81     75.20        38          40   \n",
       "3           3     Hobart -42.88  147.33     44.01        87          75   \n",
       "4           4   Sobolevo  54.43   31.90     59.32        82          99   \n",
       "\n",
       "   Wind Speed Country        Date  \n",
       "0        3.18      NG  1597791092  \n",
       "1       14.99      MU  1597791093  \n",
       "2        4.70      US  1597791094  \n",
       "3        9.17      AU  1597790825  \n",
       "4        8.39      RU  1597791097  "
      ]
     },
     "execution_count": 2,
     "metadata": {},
     "output_type": "execute_result"
    }
   ],
   "source": [
    "csv_file = r\"C:\\Users\\skm72\\Desktop\\git\\Homework\\python-api-challenge\\python-api-challenge\\WeatherPy\\output_data\\cities.csv\"\n",
    "weather_df=pd.read_csv(csv_file)\n",
    "weather_df.head()"
   ]
  },
  {
   "cell_type": "markdown",
   "metadata": {},
   "source": [
    "### Humidity Heatmap\n",
    "* Configure gmaps.\n",
    "* Use the Lat and Lng as locations and Humidity as the weight.\n",
    "* Add Heatmap layer to map."
   ]
  },
  {
   "cell_type": "code",
   "execution_count": 3,
   "metadata": {},
   "outputs": [],
   "source": [
    "gmaps.configure(api_key = g_key)\n",
    "\n",
    "locations = weather_df[[\"Lat\", \"Lng\"]]\n",
    "\n",
    "humidity = weather_df[\"Humidity\"]"
   ]
  },
  {
   "cell_type": "code",
   "execution_count": 4,
   "metadata": {},
   "outputs": [
    {
     "data": {
      "application/vnd.jupyter.widget-view+json": {
       "model_id": "5e26092cae474282a7df0469f8298a39",
       "version_major": 2,
       "version_minor": 0
      },
      "text/plain": [
       "Figure(layout=FigureLayout(height='420px'))"
      ]
     },
     "metadata": {},
     "output_type": "display_data"
    }
   ],
   "source": [
    "fig = gmaps.figure(center=(46.0, -5.0), zoom_level=2)\n",
    "\n",
    "heat_layer = gmaps.heatmap_layer(locations, weights = humidity, dissipating=False, max_intensity=np.max(humidity), point_radius=3)\n",
    "\n",
    "fig.add_layer(heat_layer)\n",
    "\n",
    "fig"
   ]
  },
  {
   "cell_type": "markdown",
   "metadata": {},
   "source": [
    "### Create new DataFrame fitting weather criteria\n",
    "* Narrow down the cities to fit weather conditions.\n",
    "* Drop any rows will null values."
   ]
  },
  {
   "cell_type": "code",
   "execution_count": 5,
   "metadata": {},
   "outputs": [
    {
     "data": {
      "text/html": [
       "<div>\n",
       "<style scoped>\n",
       "    .dataframe tbody tr th:only-of-type {\n",
       "        vertical-align: middle;\n",
       "    }\n",
       "\n",
       "    .dataframe tbody tr th {\n",
       "        vertical-align: top;\n",
       "    }\n",
       "\n",
       "    .dataframe thead th {\n",
       "        text-align: right;\n",
       "    }\n",
       "</style>\n",
       "<table border=\"1\" class=\"dataframe\">\n",
       "  <thead>\n",
       "    <tr style=\"text-align: right;\">\n",
       "      <th></th>\n",
       "      <th>Unnamed: 0</th>\n",
       "      <th>City</th>\n",
       "      <th>Lat</th>\n",
       "      <th>Lng</th>\n",
       "      <th>Max Temp</th>\n",
       "      <th>Humidity</th>\n",
       "      <th>Cloudiness</th>\n",
       "      <th>Wind Speed</th>\n",
       "      <th>Country</th>\n",
       "      <th>Date</th>\n",
       "    </tr>\n",
       "  </thead>\n",
       "  <tbody>\n",
       "    <tr>\n",
       "      <th>120</th>\n",
       "      <td>120</td>\n",
       "      <td>Zaozyornoye</td>\n",
       "      <td>45.16</td>\n",
       "      <td>33.28</td>\n",
       "      <td>71.10</td>\n",
       "      <td>64</td>\n",
       "      <td>0</td>\n",
       "      <td>2.89</td>\n",
       "      <td>UA</td>\n",
       "      <td>1597791230</td>\n",
       "    </tr>\n",
       "    <tr>\n",
       "      <th>158</th>\n",
       "      <td>158</td>\n",
       "      <td>Sinnamary</td>\n",
       "      <td>5.38</td>\n",
       "      <td>-52.95</td>\n",
       "      <td>79.11</td>\n",
       "      <td>83</td>\n",
       "      <td>0</td>\n",
       "      <td>8.55</td>\n",
       "      <td>GF</td>\n",
       "      <td>1597791274</td>\n",
       "    </tr>\n",
       "    <tr>\n",
       "      <th>225</th>\n",
       "      <td>225</td>\n",
       "      <td>Ol'ga</td>\n",
       "      <td>43.74</td>\n",
       "      <td>135.29</td>\n",
       "      <td>79.21</td>\n",
       "      <td>78</td>\n",
       "      <td>0</td>\n",
       "      <td>3.49</td>\n",
       "      <td>RU</td>\n",
       "      <td>1597791351</td>\n",
       "    </tr>\n",
       "    <tr>\n",
       "      <th>249</th>\n",
       "      <td>249</td>\n",
       "      <td>Kiryat Gat</td>\n",
       "      <td>31.61</td>\n",
       "      <td>34.76</td>\n",
       "      <td>77.00</td>\n",
       "      <td>77</td>\n",
       "      <td>0</td>\n",
       "      <td>2.68</td>\n",
       "      <td>IL</td>\n",
       "      <td>1597791380</td>\n",
       "    </tr>\n",
       "    <tr>\n",
       "      <th>282</th>\n",
       "      <td>282</td>\n",
       "      <td>Tūkrah</td>\n",
       "      <td>32.53</td>\n",
       "      <td>20.58</td>\n",
       "      <td>75.40</td>\n",
       "      <td>86</td>\n",
       "      <td>0</td>\n",
       "      <td>1.92</td>\n",
       "      <td>LY</td>\n",
       "      <td>1597791417</td>\n",
       "    </tr>\n",
       "  </tbody>\n",
       "</table>\n",
       "</div>"
      ],
      "text/plain": [
       "     Unnamed: 0         City    Lat     Lng  Max Temp  Humidity  Cloudiness  \\\n",
       "120         120  Zaozyornoye  45.16   33.28     71.10        64           0   \n",
       "158         158    Sinnamary   5.38  -52.95     79.11        83           0   \n",
       "225         225        Ol'ga  43.74  135.29     79.21        78           0   \n",
       "249         249   Kiryat Gat  31.61   34.76     77.00        77           0   \n",
       "282         282       Tūkrah  32.53   20.58     75.40        86           0   \n",
       "\n",
       "     Wind Speed Country        Date  \n",
       "120        2.89      UA  1597791230  \n",
       "158        8.55      GF  1597791274  \n",
       "225        3.49      RU  1597791351  \n",
       "249        2.68      IL  1597791380  \n",
       "282        1.92      LY  1597791417  "
      ]
     },
     "execution_count": 5,
     "metadata": {},
     "output_type": "execute_result"
    }
   ],
   "source": [
    "clean_weather_df = weather_df.loc[(weather_df[\"Wind Speed\"] <= 10) & (weather_df[\"Cloudiness\"] == 0) & \\\n",
    "                                   (weather_df[\"Max Temp\"] >= 70) & (weather_df[\"Max Temp\"] <= 80)].dropna()\n",
    "\n",
    "clean_weather_df.head()"
   ]
  },
  {
   "cell_type": "markdown",
   "metadata": {},
   "source": [
    "### Hotel Map\n",
    "* Store into variable named `hotel_df`.\n",
    "* Add a \"Hotel Name\" column to the DataFrame.\n",
    "* Set parameters to search for hotels with 5000 meters.\n",
    "* Hit the Google Places API for each city's coordinates.\n",
    "* Store the first Hotel result into the DataFrame.\n",
    "* Plot markers on top of the heatmap."
   ]
  },
  {
   "cell_type": "code",
   "execution_count": 7,
   "metadata": {},
   "outputs": [
    {
     "data": {
      "text/html": [
       "<div>\n",
       "<style scoped>\n",
       "    .dataframe tbody tr th:only-of-type {\n",
       "        vertical-align: middle;\n",
       "    }\n",
       "\n",
       "    .dataframe tbody tr th {\n",
       "        vertical-align: top;\n",
       "    }\n",
       "\n",
       "    .dataframe thead th {\n",
       "        text-align: right;\n",
       "    }\n",
       "</style>\n",
       "<table border=\"1\" class=\"dataframe\">\n",
       "  <thead>\n",
       "    <tr style=\"text-align: right;\">\n",
       "      <th></th>\n",
       "      <th>City</th>\n",
       "      <th>Country</th>\n",
       "      <th>Lat</th>\n",
       "      <th>Lng</th>\n",
       "      <th>Hotel Name</th>\n",
       "    </tr>\n",
       "  </thead>\n",
       "  <tbody>\n",
       "    <tr>\n",
       "      <th>120</th>\n",
       "      <td>Zaozyornoye</td>\n",
       "      <td>UA</td>\n",
       "      <td>45.16</td>\n",
       "      <td>33.28</td>\n",
       "      <td></td>\n",
       "    </tr>\n",
       "    <tr>\n",
       "      <th>158</th>\n",
       "      <td>Sinnamary</td>\n",
       "      <td>GF</td>\n",
       "      <td>5.38</td>\n",
       "      <td>-52.95</td>\n",
       "      <td></td>\n",
       "    </tr>\n",
       "    <tr>\n",
       "      <th>225</th>\n",
       "      <td>Ol'ga</td>\n",
       "      <td>RU</td>\n",
       "      <td>43.74</td>\n",
       "      <td>135.29</td>\n",
       "      <td></td>\n",
       "    </tr>\n",
       "    <tr>\n",
       "      <th>249</th>\n",
       "      <td>Kiryat Gat</td>\n",
       "      <td>IL</td>\n",
       "      <td>31.61</td>\n",
       "      <td>34.76</td>\n",
       "      <td></td>\n",
       "    </tr>\n",
       "    <tr>\n",
       "      <th>282</th>\n",
       "      <td>Tūkrah</td>\n",
       "      <td>LY</td>\n",
       "      <td>32.53</td>\n",
       "      <td>20.58</td>\n",
       "      <td></td>\n",
       "    </tr>\n",
       "  </tbody>\n",
       "</table>\n",
       "</div>"
      ],
      "text/plain": [
       "            City Country    Lat     Lng Hotel Name\n",
       "120  Zaozyornoye      UA  45.16   33.28           \n",
       "158    Sinnamary      GF   5.38  -52.95           \n",
       "225        Ol'ga      RU  43.74  135.29           \n",
       "249   Kiryat Gat      IL  31.61   34.76           \n",
       "282       Tūkrah      LY  32.53   20.58           "
      ]
     },
     "execution_count": 7,
     "metadata": {},
     "output_type": "execute_result"
    }
   ],
   "source": [
    "hotel_df = clean_weather_df.loc[:,[\"City\",\"Country\", \"Lat\", \"Lng\"]]\n",
    "\n",
    "hotel_df[\"Hotel Name\"] = \"\"\n",
    "\n",
    "hotel_df.head()"
   ]
  },
  {
   "cell_type": "code",
   "execution_count": 10,
   "metadata": {
    "scrolled": true
   },
   "outputs": [
    {
     "name": "stdout",
     "output_type": "stream",
     "text": [
      "Retrieving Results for Index 120: Zaozyornoye.\n",
      "Closest hotel in Zaozyornoye is Gostinyy Dvor \"Voyazh\".\n",
      "------------\n",
      "Retrieving Results for Index 158: Sinnamary.\n",
      "Closest hotel in Sinnamary is L'oiseau de Paradis.\n",
      "------------\n",
      "Retrieving Results for Index 225: Ol'ga.\n",
      "Closest hotel in Ol'ga is Gostinitsa Rosmorport..\n",
      "------------\n",
      "Retrieving Results for Index 249: Kiryat Gat.\n",
      "Closest hotel in Kiryat Gat is Desert Gat.\n",
      "------------\n",
      "Retrieving Results for Index 282: Tūkrah.\n",
      "Closest hotel in Tūkrah is مطعم الحيطة.\n",
      "------------\n",
      "Retrieving Results for Index 311: Fort-Shevchenko.\n",
      "Closest hotel in Fort-Shevchenko is Oasis hotel Bautino.\n",
      "------------\n",
      "Retrieving Results for Index 372: Murgab.\n",
      "Missing field/result... skipping.\n",
      "------------\n",
      "Retrieving Results for Index 429: Caravelas.\n",
      "Closest hotel in Caravelas is Mar Doce de Abrolhos.\n",
      "------------\n",
      "Retrieving Results for Index 468: Methóni.\n",
      "Closest hotel in Methóni is Methoni Beach Hotel.\n",
      "------------\n",
      "Retrieving Results for Index 485: Dāmghān.\n",
      "Closest hotel in Dāmghān is Damghan Tourism Hotel.\n",
      "------------\n",
      "Retrieving Results for Index 543: Paralímni.\n",
      "Closest hotel in Paralímni is Crystal Springs Beach Hotel.\n",
      "------------\n",
      "-------End of Search-------\n"
     ]
    }
   ],
   "source": [
    "base_url = \"https://maps.googleapis.com/maps/api/place/nearbysearch/json\"\n",
    "\n",
    "params = {\"type\" : \"hotel\",\n",
    "          \"keyword\" : \"hotel\",\n",
    "          \"radius\" : 5000,\n",
    "          \"key\" : g_key}\n",
    "\n",
    "for index, row in hotel_df.iterrows():\n",
    "\n",
    "    lat = row[\"Lat\"]\n",
    "    lng = row[\"Lng\"]\n",
    "    city_name = row[\"City\"]\n",
    "    \n",
    "    params[\"location\"] = f\"{lat},{lng}\"\n",
    "\n",
    "    print(f\"Retrieving Results for Index {index}: {city_name}.\")\n",
    "    response = requests.get(base_url, params=params).json()\n",
    "    \n",
    "    results = response['results']\n",
    "    \n",
    "    try:\n",
    "        print(f\"Closest hotel in {city_name} is {results[0]['name']}.\")\n",
    "        hotel_df.loc[index, \"Hotel Name\"] = results[0]['name']\n",
    "\n",
    "    except (KeyError, IndexError):\n",
    "        print(\"Missing field/result... skipping.\")\n",
    "        \n",
    "    print(\"------------\")\n",
    "    \n",
    "print(\"-------End of Search-------\")"
   ]
  },
  {
   "cell_type": "code",
   "execution_count": 11,
   "metadata": {},
   "outputs": [],
   "source": [
    "# NOTE: Do not change any of the code in this cell\n",
    "\n",
    "# Using the template add the hotel marks to the heatmap\n",
    "info_box_template = \"\"\"\n",
    "<dl>\n",
    "<dt>Name</dt><dd>{Hotel Name}</dd>\n",
    "<dt>City</dt><dd>{City}</dd>\n",
    "<dt>Country</dt><dd>{Country}</dd>\n",
    "</dl>\n",
    "\"\"\"\n",
    "# Store the DataFrame Row\n",
    "# NOTE: be sure to update with your DataFrame name\n",
    "hotel_info = [info_box_template.format(**row) for index, row in hotel_df.iterrows()]\n",
    "locations = hotel_df[[\"Lat\", \"Lng\"]]"
   ]
  },
  {
   "cell_type": "code",
   "execution_count": 12,
   "metadata": {},
   "outputs": [
    {
     "data": {
      "application/vnd.jupyter.widget-view+json": {
       "model_id": "5e26092cae474282a7df0469f8298a39",
       "version_major": 2,
       "version_minor": 0
      },
      "text/plain": [
       "Figure(layout=FigureLayout(height='420px'))"
      ]
     },
     "metadata": {},
     "output_type": "display_data"
    }
   ],
   "source": [
    "# Add marker layer ontop of heat map\n",
    "markers = gmaps.marker_layer(locations, info_box_content = hotel_info)\n",
    "fig.add_layer(markers)\n",
    "\n",
    "# Display figure\n",
    "fig"
   ]
  },
  {
   "cell_type": "code",
   "execution_count": null,
   "metadata": {},
   "outputs": [],
   "source": []
  }
 ],
 "metadata": {
  "kernelspec": {
   "display_name": "Python 3",
   "language": "python",
   "name": "python3"
  },
  "language_info": {
   "codemirror_mode": {
    "name": "ipython",
    "version": 3
   },
   "file_extension": ".py",
   "mimetype": "text/x-python",
   "name": "python",
   "nbconvert_exporter": "python",
   "pygments_lexer": "ipython3",
   "version": "3.7.6"
  },
  "latex_envs": {
   "LaTeX_envs_menu_present": true,
   "autoclose": false,
   "autocomplete": true,
   "bibliofile": "biblio.bib",
   "cite_by": "apalike",
   "current_citInitial": 1,
   "eqLabelWithNumbers": true,
   "eqNumInitial": 1,
   "hotkeys": {
    "equation": "Ctrl-E",
    "itemize": "Ctrl-I"
   },
   "labels_anchors": false,
   "latex_user_defs": false,
   "report_style_numbering": false,
   "user_envs_cfg": false
  }
 },
 "nbformat": 4,
 "nbformat_minor": 2
}
